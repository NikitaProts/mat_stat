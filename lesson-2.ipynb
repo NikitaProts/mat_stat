{
 "cells": [
  {
   "cell_type": "markdown",
   "metadata": {},
   "source": [
    "### Задание 1 \n",
    "**Контрольная работа состоит из пяти вопросов. На каждый вопрос приведено четыре варианта ответа, один из которых правильный. Составьте закон распределения числа правильных ответов при простом угадывании. Найдите M(X), D(X)**"
   ]
  },
  {
   "cell_type": "code",
   "execution_count": 1,
   "metadata": {},
   "outputs": [],
   "source": [
    "from math import factorial"
   ]
  },
  {
   "cell_type": "code",
   "execution_count": 2,
   "metadata": {},
   "outputs": [],
   "source": [
    "def combinations(n, k):\n",
    "    return int(factorial(n) / (factorial(k) * factorial(n - k)))"
   ]
  },
  {
   "cell_type": "code",
   "execution_count": null,
   "metadata": {},
   "outputs": [],
   "source": [
    "# n - число вопросов\n",
    "n = 3\n",
    "# p - веротяность правидльного ответа\n",
    "p = 1/4"
   ]
  },
  {
   "cell_type": "code",
   "execution_count": 6,
   "metadata": {},
   "outputs": [
    {
     "name": "stdout",
     "output_type": "stream",
     "text": [
      "0.421875 0.421875 0.140625 0.015625\n"
     ]
    }
   ],
   "source": [
    "# Далее по формуле Бернулли вычисляем вероятности\n",
    "# p_x3 - вероятность от 3ех правильных ответов\n",
    "p_x0 = combinations(3, 0) * (3/4)** 3 * (1/4)**0\n",
    "p_x1 = combinations(3, 1) * (3/4)** 2 * (1/4)**1\n",
    "p_x2 = combinations(3, 2) * (3/4)** 1 * (1/4)**2\n",
    "p_x3 = combinations(3, 3) * (3/4)** 0 * (1/4)**3\n",
    "print(p_x0, p_x1, p_x2, p_x3)"
   ]
  },
  {
   "cell_type": "code",
   "execution_count": 9,
   "metadata": {},
   "outputs": [
    {
     "name": "stdout",
     "output_type": "stream",
     "text": [
      "0.421875 0.140625 0.015625\n"
     ]
    }
   ],
   "source": [
    "print(27/64, 9/64, 1/64)"
   ]
  },
  {
   "cell_type": "markdown",
   "metadata": {},
   "source": [
    "| Xi | 0 | 1 | 2 | 3 |\n",
    "| --- | --- | --- | --- | --- |\n",
    "| Pi |27/64 | 27/64 | 9/64 | 1/64 |"
   ]
  },
  {
   "cell_type": "code",
   "execution_count": 10,
   "metadata": {},
   "outputs": [
    {
     "name": "stdout",
     "output_type": "stream",
     "text": [
      "0.75 0.5625\n"
     ]
    }
   ],
   "source": [
    "# Найдем числовые характеристики\n",
    "# M(x) = np, D = np(1-p)\n",
    "M = 3 * 1/4\n",
    "D = 3 * 1/4 * 3/4\n",
    "print(M, D)"
   ]
  },
  {
   "cell_type": "markdown",
   "metadata": {},
   "source": [
    "### Задание 2\n",
    "**Вероятность попадания в цель при одном выстреле равна 0.01. Какова вероятность того, что число попаданий при 200 выстрелах будет не менее 5 и не более 10?**"
   ]
  },
  {
   "cell_type": "code",
   "execution_count": 12,
   "metadata": {},
   "outputs": [
    {
     "name": "stdout",
     "output_type": "stream",
     "text": [
      "0.03572335672160829 0.011727364580325954 0.0032829851783307863 0.0008000203780528306 0.000172394963620812 3.326003843593443e-05\n"
     ]
    }
   ],
   "source": [
    "# p_x5 - 5 попаданий\n",
    "p_x5 = combinations(200, 5) * 0.01**5 * 0.99**195\n",
    "p_x6 = combinations(200, 6) * 0.01**6 * 0.99**194\n",
    "p_x7 = combinations(200, 7) * 0.01**7 * 0.99**193\n",
    "p_x8 = combinations(200, 8) * 0.01**8 * 0.99**192\n",
    "p_x9 = combinations(200, 9) * 0.01**9 * 0.99**191\n",
    "p_x10 = combinations(200, 10) * 0.01**10 * 0.99**190\n",
    "print(p_x5, p_x6, p_x7, p_x8, p_x9, p_x10)"
   ]
  },
  {
   "cell_type": "code",
   "execution_count": 13,
   "metadata": {},
   "outputs": [
    {
     "data": {
      "text/plain": [
       "0.051739381860374606"
      ]
     },
     "execution_count": 13,
     "metadata": {},
     "output_type": "execute_result"
    }
   ],
   "source": [
    "#Итоговый ответ\n",
    "P = p_x5 + p_x6 + p_x7 + p_x8 + p_x9 + p_x10\n",
    "P"
   ]
  }
 ],
 "metadata": {
  "kernelspec": {
   "display_name": "Python 3",
   "language": "python",
   "name": "python3"
  },
  "language_info": {
   "codemirror_mode": {
    "name": "ipython",
    "version": 3
   },
   "file_extension": ".py",
   "mimetype": "text/x-python",
   "name": "python",
   "nbconvert_exporter": "python",
   "pygments_lexer": "ipython3",
   "version": "3.8.5"
  }
 },
 "nbformat": 4,
 "nbformat_minor": 4
}
